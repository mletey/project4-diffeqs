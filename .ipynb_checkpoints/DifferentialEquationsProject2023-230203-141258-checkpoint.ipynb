{
 "cells": [
  {
   "cell_type": "markdown",
   "id": "painted-norfolk",
   "metadata": {},
   "source": [
    "# Homework project for the \"Differential Equations\" course module"
   ]
  },
  {
   "cell_type": "markdown",
   "id": "mature-scotland",
   "metadata": {},
   "source": [
    "1. Solve the wave equation `dt^2 u(t,x) = dx^2 u(t,x)` numerically. Use a `1+1`-dimensional domain, and use Dirichlet boundary conditions `u(t,-L) = u(t,+L) = 0`. Use the spatial domain bounds `[-1; +1]`, and use the Gaussian-like function `f(t,x) = A exp(-1/2 sin(2pi (x-t))^2 / W^2)` as initial condition. Use `L=1, A=1, W=0.2` as parameters. Evolve from `t=0` to `t=4L`, i.e. for two crossing times. Plot the result."
   ]
  },
  {
   "cell_type": "markdown",
   "id": "superb-referral",
   "metadata": {},
   "source": [
    "2. Vary the time step size `dt`. If you choose `dt` too large, the discrete system will be unstable. What is the stability limit? Why does this happen? How could you avoid this limit?"
   ]
  },
  {
   "cell_type": "markdown",
   "id": "injured-translation",
   "metadata": {},
   "source": [
    "3. The energy density of a scalar wave is `epsilon(t,x) = 1/2 ((d/dt u(t,x))^2 + ((d/dx u(t,x))^2)`. Calculate the energy density as a function of space and time for your solution. Plot the result."
   ]
  },
  {
   "cell_type": "markdown",
   "id": "adverse-experiment",
   "metadata": {},
   "source": [
    "4. To calculate the total energy `E(t)` as a function of time, you need to integrate it over space. One way to do so is using the function below. Calculate and show the total energy `E(t)` as a function of time. How well is the energy conserved? How does this depend on the grid spacings `dx` and `dt?"
   ]
  },
  {
   "cell_type": "markdown",
   "id": "subject-gazette",
   "metadata": {},
   "source": [
    "## Problem 1 ##"
   ]
  },
  {
   "cell_type": "code",
   "execution_count": 1,
   "id": "shaped-sacrifice",
   "metadata": {},
   "outputs": [
    {
     "data": {
      "text/plain": [
       "coords (generic function with 1 method)"
      ]
     },
     "execution_count": 1,
     "metadata": {},
     "output_type": "execute_result"
    }
   ],
   "source": [
    "# Coordinates of grid\n",
    "\n",
    "function coords(starttime, startspatial, numtime, numspatial, dt, dx)\n",
    "    # makes total of \n",
    "    t = [starttime + (n * dt) for i in 0:numspatial, n in 0:numtime] # timefinish = starttime + numtime*dt\n",
    "    x = [startspatial + (i * dx) for i in 0:numspatial, n in 0:numtime]\n",
    "    return t, x\n",
    "end"
   ]
  },
  {
   "cell_type": "code",
   "execution_count": 2,
   "id": "bottom-singles",
   "metadata": {},
   "outputs": [],
   "source": [
    "# Given parameters\n",
    "L = 1 # spatial domain width\n",
    "A = 1 # amplitude of initial forcing\n",
    "W = 0.2 # period of initial forcing\n",
    "\n",
    "starttime = 0\n",
    "finishtime = 4*L\n",
    "numtime = 100\n",
    "dt = (finishtime-starttime)/numtime\n",
    "\n",
    "startspatial = -1\n",
    "finishspatial = 1\n",
    "numspatial = 100\n",
    "dx = (finishspatial-startspatial)/numspatial\n",
    "\n",
    "t, x = coords(starttime, startspatial, numtime, numspatial, dt, dx);"
   ]
  },
  {
   "cell_type": "code",
   "execution_count": 3,
   "id": "subjective-objective",
   "metadata": {},
   "outputs": [
    {
     "data": {
      "text/plain": [
       "standing (generic function with 1 method)"
      ]
     },
     "execution_count": 3,
     "metadata": {},
     "output_type": "execute_result"
    }
   ],
   "source": [
    "# Define initial conditions for a standing wave\n",
    "function standing(t, x, A, W)\n",
    "    numspatial, numtime = size(t)\n",
    "    u = zeros(numspatial, numtime)\n",
    "    \n",
    "    # Initial conditions for first two points in time\n",
    "    # f(t,x) = A exp(-1/2 sin(2pi (x-t))^2 / W^2)\n",
    "    for n in 1:2, i in 1:numspatial\n",
    "        u[i, n] = A*exp((-1/2)*(1/W^2)*(sin(2*pi*(x[i,n]-t[i,n])))^2)\n",
    "    end\n",
    "    return u\n",
    "end"
   ]
  },
  {
   "cell_type": "code",
   "execution_count": 4,
   "id": "abroad-voice",
   "metadata": {},
   "outputs": [
    {
     "data": {
      "text/plain": [
       "evolve_point! (generic function with 1 method)"
      ]
     },
     "execution_count": 4,
     "metadata": {},
     "output_type": "execute_result"
    }
   ],
   "source": [
    "# Find the solution at one interior point `u[i,n]`\n",
    "# n indexes in TIME\n",
    "# i indexes in SPACE\n",
    "function evolve_point!(u, dt, dx, n, i)\n",
    "    ni, nn = size(u)\n",
    "    # Finite difference for second derivative in x direction at point [i,n-1]\n",
    "    uxx = (u[i-1,n-1] - 2*u[i,n-1] + u[i+1,n-1]) / dx^2\n",
    "    # Time derivative\n",
    "    # utt = (u[i,n-2] - 2*u[i,n-1] + u[i,n]) / dt^2\n",
    "    # Wave equation\n",
    "    # utt = uxx\n",
    "    # Solve for u[i,n]\n",
    "    u[i,n] = uxx * dt^2 - u[i,n-2] + 2*u[i,n-1]\n",
    "    return\n",
    "end"
   ]
  },
  {
   "cell_type": "code",
   "execution_count": 5,
   "id": "appointed-estimate",
   "metadata": {},
   "outputs": [
    {
     "data": {
      "text/plain": [
       "evolve_step! (generic function with 1 method)"
      ]
     },
     "execution_count": 5,
     "metadata": {},
     "output_type": "execute_result"
    }
   ],
   "source": [
    "# Find the solution for one point in time `n`\n",
    "# Evolve spatially from Dirichlet boundary conditions\n",
    "function evolve_step!(u, dt, dx, n)\n",
    "    numspace, numtime = size(u)\n",
    "    # Apply boundary condition at left boundary\n",
    "    u[1,n] = 0\n",
    "    # Evolve interior\n",
    "    for i in 2:numspace-1\n",
    "        evolve_point!(u, dt, dx, n, i)\n",
    "    end\n",
    "    # Apply boundary condition at right boundary\n",
    "    u[numspace,n] = 0\n",
    "    return\n",
    "end"
   ]
  },
  {
   "cell_type": "code",
   "execution_count": 6,
   "id": "sharp-special",
   "metadata": {},
   "outputs": [
    {
     "data": {
      "text/plain": [
       "evolve! (generic function with 1 method)"
      ]
     },
     "execution_count": 6,
     "metadata": {},
     "output_type": "execute_result"
    }
   ],
   "source": [
    "# Find the solution everywhere\n",
    "function evolve!(u, dt, dx)\n",
    "    ni, nn = size(u)\n",
    "    # Loop over all times\n",
    "    for n in 3:nn\n",
    "        evolve_step!(u, dt, dx, n)\n",
    "    end\n",
    "    return\n",
    "end"
   ]
  },
  {
   "cell_type": "code",
   "execution_count": 7,
   "id": "coastal-manitoba",
   "metadata": {},
   "outputs": [],
   "source": [
    "u = standing(t, x, A, W); # initial condition\n",
    "evolve!(u, dt, dx) # solve!"
   ]
  },
  {
   "cell_type": "code",
   "execution_count": 8,
   "id": "computational-yeast",
   "metadata": {},
   "outputs": [],
   "source": [
    "using CairoMakie"
   ]
  },
  {
   "cell_type": "code",
   "execution_count": 9,
   "id": "organic-painting",
   "metadata": {},
   "outputs": [
    {
     "data": {
      "image/png": "[encoded data removed]"
     },
     "execution_count": 9,
     "metadata": {},
     "output_type": "execute_result"
    }
   ],
   "source": [
    "fig = Figure(resolution = (300, 300))\n",
    "ax = Axis(fig[1, 1])\n",
    "contourf!(vec(x[:,1:2]), vec(t[:,1:2]), vec(u[:,1:2]),color=:turbo)\n",
    "fig"
   ]
  },
  {
   "cell_type": "markdown",
   "id": "caring-exhaust",
   "metadata": {},
   "source": [
    "Time snapshot of initial wave "
   ]
  },
  {
   "cell_type": "code",
   "execution_count": 27,
   "id": "extra-charlotte",
   "metadata": {},
   "outputs": [
    {
     "data": {
      "image/png": "[encoded data removed]"
     },
     "execution_count": 27,
     "metadata": {},
     "output_type": "execute_result"
    }
   ],
   "source": [
    "fig1 = Figure(resolution = (300, 300))\n",
    "ax = Axis(fig1[1, 1])\n",
    "contourf(vec(x[:,38:39]), vec(t[:,38:39]), vec(u[:,38:39]))\n",
    "fig1"
   ]
  },
  {
   "cell_type": "code",
   "execution_count": null,
   "id": "stretch-matrix",
   "metadata": {},
   "outputs": [],
   "source": [
    "fig1 = Figure(resolution = (300, 300))\n",
    "ax = Axis(fig1[1, 1])\n",
    "contourf!(vec(x[:,38:39]), vec(t[:,38:39]), vec(u[:,38:39]))\n",
    "fig1"
   ]
  },
  {
   "cell_type": "markdown",
   "id": "turned-collapse",
   "metadata": {},
   "source": [
    "Time snapshot of final wave "
   ]
  },
  {
   "cell_type": "markdown",
   "id": "unusual-swiss",
   "metadata": {},
   "source": [
    "## Problem 2 ##"
   ]
  },
  {
   "cell_type": "code",
   "execution_count": null,
   "id": "usual-cabinet",
   "metadata": {},
   "outputs": [],
   "source": []
  },
  {
   "cell_type": "code",
   "execution_count": null,
   "id": "fewer-combination",
   "metadata": {},
   "outputs": [],
   "source": []
  },
  {
   "cell_type": "code",
   "execution_count": null,
   "id": "social-cheese",
   "metadata": {},
   "outputs": [],
   "source": []
  },
  {
   "cell_type": "markdown",
   "id": "vocational-excellence",
   "metadata": {},
   "source": [
    "## Problem 3 ##"
   ]
  },
  {
   "cell_type": "code",
   "execution_count": 1,
   "id": "human-member",
   "metadata": {},
   "outputs": [
    {
     "data": {
      "text/plain": [
       "integrate (generic function with 1 method)"
      ]
     },
     "execution_count": 1,
     "metadata": {},
     "output_type": "execute_result"
    }
   ],
   "source": [
    "# Integrate `epsilon` over space\n",
    "function integrate(epsilon, n, dx)\n",
    "    ni, nt = size(epsilon)\n",
    "    # The boundary points are special; they have a weight of 1/2.\n",
    "    # There are `ni` points overall, and the grid spacing is `dx = 2L/(ni-1)`.\n",
    "    # Integrating the constant function `epsilon=1` thus gives exactly `2L`.\n",
    "    E = epsilon[1, n] / 2\n",
    "    for i in 2:ni-1\n",
    "        E += epsilon[i, n]\n",
    "    end\n",
    "    E += epsilon[ni, n] / 2\n",
    "    # Scale by the grid spacing\n",
    "    E *= dx\n",
    "    return E\n",
    "end"
   ]
  },
  {
   "cell_type": "code",
   "execution_count": null,
   "id": "anticipated-consultancy",
   "metadata": {},
   "outputs": [],
   "source": []
  },
  {
   "cell_type": "code",
   "execution_count": null,
   "id": "documented-producer",
   "metadata": {},
   "outputs": [],
   "source": []
  },
  {
   "cell_type": "code",
   "execution_count": null,
   "id": "funky-claim",
   "metadata": {},
   "outputs": [],
   "source": []
  },
  {
   "cell_type": "markdown",
   "id": "younger-cardiff",
   "metadata": {},
   "source": [
    "## Problem 4 ##"
   ]
  },
  {
   "cell_type": "code",
   "execution_count": null,
   "id": "seven-track",
   "metadata": {},
   "outputs": [],
   "source": []
  },
  {
   "cell_type": "code",
   "execution_count": null,
   "id": "collected-paste",
   "metadata": {},
   "outputs": [],
   "source": []
  },
  {
   "cell_type": "code",
   "execution_count": null,
   "id": "packed-boundary",
   "metadata": {},
   "outputs": [],
   "source": []
  },
  {
   "cell_type": "code",
   "execution_count": null,
   "id": "written-criminal",
   "metadata": {},
   "outputs": [],
   "source": []
  },
  {
   "cell_type": "code",
   "execution_count": null,
   "id": "falling-peripheral",
   "metadata": {},
   "outputs": [],
   "source": []
  }
 ],
 "metadata": {
  "kernelspec": {
   "display_name": "Julia 1.8.4",
   "language": "julia",
   "name": "julia-1.8"
  },
  "language_info": {
   "file_extension": ".jl",
   "mimetype": "application/julia",
   "name": "julia",
   "version": "1.8.4"
  }
 },
 "nbformat": 4,
 "nbformat_minor": 5
}
