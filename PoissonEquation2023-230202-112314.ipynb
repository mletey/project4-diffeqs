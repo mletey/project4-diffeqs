{
 "cells": [
  {
   "cell_type": "markdown",
   "id": "creative-taxation",
   "metadata": {},
   "source": [
    "# Solve Poisson equation"
   ]
  },
  {
   "cell_type": "code",
   "execution_count": 1,
   "id": "impressed-baker",
   "metadata": {},
   "outputs": [],
   "source": [
    "# ∂ₓ² u = ρ\n",
    "# u = 0   on boundary (Dirichlet boundary conditions)\n",
    "\n",
    "# Using finite differencing"
   ]
  },
  {
   "cell_type": "code",
   "execution_count": 2,
   "id": "seventh-ethiopia",
   "metadata": {},
   "outputs": [],
   "source": [
    "# Choose problem size\n",
    "ni = 51\n",
    "dx = 1/(ni-1);"
   ]
  },
  {
   "cell_type": "code",
   "execution_count": 3,
   "id": "religious-idaho",
   "metadata": {},
   "outputs": [],
   "source": [
    "# Choose RHS (right hand side)\n",
    "ρ = zeros(ni)\n",
    "# ρ[:] .= 1;\n",
    "# ÷ = \\div\n",
    "ρ[(ni÷2):(ni÷2+10)] .= 1;"
   ]
  },
  {
   "cell_type": "code",
   "execution_count": 4,
   "id": "brief-duration",
   "metadata": {},
   "outputs": [],
   "source": [
    "# Construct linear operator\n",
    "using LinearAlgebra\n",
    "using SparseArrays"
   ]
  },
  {
   "cell_type": "code",
   "execution_count": 5,
   "id": "advisory-audio",
   "metadata": {},
   "outputs": [],
   "source": [
    "# Define the non-zero elements\n",
    "I = Int[]\n",
    "J = Int[]\n",
    "V = Float64[];"
   ]
  },
  {
   "cell_type": "code",
   "execution_count": 6,
   "id": "prostate-retirement",
   "metadata": {},
   "outputs": [],
   "source": [
    "# Boundary conditions (the easy part)\n",
    "\n",
    "# left boundary\n",
    "# A[1,1] = 1\n",
    "push!(I, 1)\n",
    "push!(J, 1)\n",
    "push!(V, 1)\n",
    "\n",
    "# right boundary\n",
    "# A[ni,ni] = 1\n",
    "push!(I, ni)\n",
    "push!(J, ni)\n",
    "push!(V, 1)\n",
    ";"
   ]
  },
  {
   "cell_type": "code",
   "execution_count": 7,
   "id": "consolidated-pound",
   "metadata": {},
   "outputs": [],
   "source": [
    "# Interior: Laplace operator\n",
    "for i in 2:ni-1\n",
    "    # left stencil point\n",
    "    push!(I, i)     # row\n",
    "    push!(J, i-1)   # column\n",
    "    push!(V, 1/dx^2)     # value\n",
    "    # cente stencil point\n",
    "    push!(I, i)     # row\n",
    "    push!(J, i)     # column\n",
    "    push!(V, -2/dx^2)    # value\n",
    "    # right stencil point\n",
    "    push!(I, i)     # row\n",
    "    push!(J, i+1)   # column\n",
    "    push!(V, 1/dx^2)     # value\n",
    "end"
   ]
  },
  {
   "cell_type": "code",
   "execution_count": 8,
   "id": "working-stopping",
   "metadata": {},
   "outputs": [
    {
     "data": {
      "text/plain": [
       "51×51 SparseMatrixCSC{Float64, Int64} with 149 stored entries:\n",
       "⠳⣦⡀⠀⠀⠀⠀⠀⠀⠀⠀⠀⠀⠀⠀⠀⠀⠀⠀⠀⠀⠀⠀⠀⠀⠀\n",
       "⠀⠈⠻⣦⡀⠀⠀⠀⠀⠀⠀⠀⠀⠀⠀⠀⠀⠀⠀⠀⠀⠀⠀⠀⠀⠀\n",
       "⠀⠀⠀⠈⠻⣦⡀⠀⠀⠀⠀⠀⠀⠀⠀⠀⠀⠀⠀⠀⠀⠀⠀⠀⠀⠀\n",
       "⠀⠀⠀⠀⠀⠈⠻⣦⡀⠀⠀⠀⠀⠀⠀⠀⠀⠀⠀⠀⠀⠀⠀⠀⠀⠀\n",
       "⠀⠀⠀⠀⠀⠀⠀⠈⠻⣦⡀⠀⠀⠀⠀⠀⠀⠀⠀⠀⠀⠀⠀⠀⠀⠀\n",
       "⠀⠀⠀⠀⠀⠀⠀⠀⠀⠈⠻⣦⡀⠀⠀⠀⠀⠀⠀⠀⠀⠀⠀⠀⠀⠀\n",
       "⠀⠀⠀⠀⠀⠀⠀⠀⠀⠀⠀⠈⠻⣦⡀⠀⠀⠀⠀⠀⠀⠀⠀⠀⠀⠀\n",
       "⠀⠀⠀⠀⠀⠀⠀⠀⠀⠀⠀⠀⠀⠈⠻⣦⡀⠀⠀⠀⠀⠀⠀⠀⠀⠀\n",
       "⠀⠀⠀⠀⠀⠀⠀⠀⠀⠀⠀⠀⠀⠀⠀⠈⠻⣦⡀⠀⠀⠀⠀⠀⠀⠀\n",
       "⠀⠀⠀⠀⠀⠀⠀⠀⠀⠀⠀⠀⠀⠀⠀⠀⠀⠈⠻⣦⡀⠀⠀⠀⠀⠀\n",
       "⠀⠀⠀⠀⠀⠀⠀⠀⠀⠀⠀⠀⠀⠀⠀⠀⠀⠀⠀⠈⠻⣦⡀⠀⠀⠀\n",
       "⠀⠀⠀⠀⠀⠀⠀⠀⠀⠀⠀⠀⠀⠀⠀⠀⠀⠀⠀⠀⠀⠈⠻⣦⡀⠀\n",
       "⠀⠀⠀⠀⠀⠀⠀⠀⠀⠀⠀⠀⠀⠀⠀⠀⠀⠀⠀⠀⠀⠀⠀⠈⠛⠆"
      ]
     },
     "execution_count": 8,
     "metadata": {},
     "output_type": "execute_result"
    }
   ],
   "source": [
    "A = sparse(I, J, V, ni, ni)"
   ]
  },
  {
   "cell_type": "code",
   "execution_count": 9,
   "id": "pointed-details",
   "metadata": {},
   "outputs": [
    {
     "data": {
      "text/plain": [
       "51-element Vector{Float64}:\n",
       " 0.0\n",
       " 0.0\n",
       " 0.0\n",
       " 0.0\n",
       " 0.0\n",
       " 0.0\n",
       " 0.0\n",
       " 0.0\n",
       " 0.0\n",
       " 0.0\n",
       " 0.0\n",
       " 0.0\n",
       " 0.0\n",
       " ⋮\n",
       " 0.0\n",
       " 0.0\n",
       " 0.0\n",
       " 0.0\n",
       " 0.0\n",
       " 0.0\n",
       " 0.0\n",
       " 0.0\n",
       " 0.0\n",
       " 0.0\n",
       " 0.0\n",
       " 0.0"
      ]
     },
     "execution_count": 9,
     "metadata": {},
     "output_type": "execute_result"
    }
   ],
   "source": [
    "# Define RHS\n",
    "b = [0; ρ[2:ni-1]; 0]"
   ]
  },
  {
   "cell_type": "code",
   "execution_count": 10,
   "id": "irish-grave",
   "metadata": {},
   "outputs": [
    {
     "data": {
      "text/plain": [
       "51-element Vector{Float64}:\n",
       "  0.0\n",
       " -0.0018479999999999842\n",
       " -0.0036959999999999684\n",
       " -0.005543999999999953\n",
       " -0.007391999999999936\n",
       " -0.009239999999999918\n",
       " -0.011087999999999902\n",
       " -0.012935999999999883\n",
       " -0.014783999999999868\n",
       " -0.016631999999999852\n",
       " -0.018479999999999837\n",
       " -0.020327999999999822\n",
       " -0.02217599999999981\n",
       "  ⋮\n",
       " -0.02807199999999982\n",
       " -0.025519999999999834\n",
       " -0.02296799999999985\n",
       " -0.020415999999999865\n",
       " -0.017863999999999883\n",
       " -0.015311999999999902\n",
       " -0.012759999999999919\n",
       " -0.010207999999999936\n",
       " -0.007655999999999951\n",
       " -0.005103999999999967\n",
       " -0.0025519999999999835\n",
       "  0.0"
      ]
     },
     "execution_count": 10,
     "metadata": {},
     "output_type": "execute_result"
    }
   ],
   "source": [
    "u = A \\ b"
   ]
  },
  {
   "cell_type": "code",
   "execution_count": null,
   "id": "proof-ferry",
   "metadata": {},
   "outputs": [],
   "source": [
    "using CairoMakie"
   ]
  },
  {
   "cell_type": "code",
   "execution_count": null,
   "id": "rough-syracuse",
   "metadata": {},
   "outputs": [],
   "source": [
    "fig = Figure(resolution=(400, 200))\n",
    "ax = Axis(fig[1, 1])\n",
    "plot!(u; color=:red)\n",
    "fig"
   ]
  },
  {
   "cell_type": "code",
   "execution_count": null,
   "id": "resident-biotechnology",
   "metadata": {},
   "outputs": [],
   "source": []
  }
 ],
 "metadata": {
  "kernelspec": {
   "display_name": "Julia 1.8.5",
   "language": "julia",
   "name": "julia-1.8"
  },
  "language_info": {
   "file_extension": ".jl",
   "mimetype": "application/julia",
   "name": "julia",
   "version": "1.8.5"
  }
 },
 "nbformat": 4,
 "nbformat_minor": 5
}
